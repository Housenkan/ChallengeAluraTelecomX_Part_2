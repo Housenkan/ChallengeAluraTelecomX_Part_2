{
  "nbformat": 4,
  "nbformat_minor": 0,
  "metadata": {
    "colab": {
      "provenance": [],
      "authorship_tag": "ABX9TyP6O6rse8F1r+mGNVBl2eBp",
      "include_colab_link": true
    },
    "kernelspec": {
      "name": "python3",
      "display_name": "Python 3"
    },
    "language_info": {
      "name": "python"
    }
  },
  "cells": [
    {
      "cell_type": "markdown",
      "metadata": {
        "id": "view-in-github",
        "colab_type": "text"
      },
      "source": [
        "<a href=\"https://colab.research.google.com/github/Housenkan/ChallengeAluraTelecomX_Part_2/blob/main/TelecomX_Parte_2.ipynb\" target=\"_parent\"><img src=\"https://colab.research.google.com/assets/colab-badge.svg\" alt=\"Open In Colab\"/></a>"
      ]
    },
    {
      "cell_type": "code",
      "execution_count": 116,
      "metadata": {
        "collapsed": true,
        "id": "zEBcOeXmRi59"
      },
      "outputs": [],
      "source": [
        "import pandas as pd\n",
        "pd.set_option('display.max_columns', None)\n",
        "dados = pd.read_csv('dados_tratados.csv')"
      ]
    },
    {
      "cell_type": "code",
      "source": [
        "dados['NoPhoneService'] = dados['MultipleLines'].apply(lambda x: 0 if x in ['0', '1'] else 1)\n",
        "dados['FiberOptic'] = dados['InternetService'].apply(lambda x: 1 if x == 'Fiber optic' else 0)\n",
        "dados['MultipleLines'] = dados['MultipleLines'].replace('No phone service', '0')\n",
        "dados['DSL'] = dados['InternetService'].apply(lambda x: 1 if x == 'DSL' else 0)\n",
        "dados['FiberOptic'] = dados['InternetService'].apply(lambda x: 1 if x == 'Fiber optic' else 0)\n",
        "dados['NoInternetService'] = dados['InternetService'].apply(lambda x: 1 if x == \"0\" else 0)\n",
        "dados['InternetService'] = dados['InternetService'].replace('DSL', 1)\n",
        "dados['InternetService'] = dados['InternetService'].replace('Fiber optic', 1)\n",
        "dados['Male'] = dados['gender'].apply(lambda x: 1 if x == 'Male' else 0)\n",
        "dados['Female'] = dados['gender'].apply(lambda x: 1 if x == 'Female' else 0)\n",
        "dados['Month-to-month'] = dados['Contract'].apply(lambda x: 1 if x == 'Month-to-month' else 0)\n",
        "dados['One year'] = dados['Contract'].apply(lambda x: 1 if x == 'One year' else 0)\n",
        "dados['Two year'] = dados['Contract'].apply(lambda x: 1 if x == 'Two year' else 0)\n",
        "dados['Eletronic check'] = dados['PaymentMethod'].apply(lambda x: 1 if x == 'Electronic check' else 0)\n",
        "dados['Mailed check'] = dados['PaymentMethod'].apply(lambda x: 1 if x == 'Mailed check' else 0)\n",
        "dados['Bank transfer'] = dados['PaymentMethod'].apply(lambda x: 1 if x == 'Bank transfer (automatic)' else 0)\n",
        "dados['Credit card'] = dados['PaymentMethod'].apply(lambda x: 1 if x == 'Credit card (automatic)' else 0)"
      ],
      "metadata": {
        "collapsed": true,
        "id": "UH5WMzBo3p5S"
      },
      "execution_count": 117,
      "outputs": []
    },
    {
      "cell_type": "code",
      "metadata": {
        "collapsed": true,
        "id": "52c2c905"
      },
      "source": [
        "try:\n",
        "    dados = dados.drop(columns=['customerID', 'gender', 'Contract'])\n",
        "except KeyError:\n",
        "    display(dados.head())"
      ],
      "execution_count": 118,
      "outputs": []
    },
    {
      "cell_type": "code",
      "source": [
        "try:\n",
        "    dados = dados.drop(columns=['PaymentMethod'])\n",
        "except KeyError:\n",
        "    display(dados.head())"
      ],
      "metadata": {
        "collapsed": true,
        "id": "nyaCBcf6i_Ys"
      },
      "execution_count": 119,
      "outputs": []
    },
    {
      "cell_type": "code",
      "source": [
        "total_churn = dados['Churn'].value_counts()\n",
        "proporcao_evasao = total_churn[1] / total_churn.sum()\n",
        "proporcao_ativo = total_churn[0] / total_churn.sum()\n",
        "\n",
        "imbalance_threshold = 0.005\n",
        "\n",
        "print(f\"Distribuição da classe Churn:\")\n",
        "display(total_churn)\n",
        "print(f\"Proporção de clientes que evadiram (Churn): {proporcao_evasao:.2%}\")\n",
        "print(f\"Proporção de clientes que permaneceram ativos: {proporcao_ativo:.2%}\")\n",
        "\n",
        "if proporcao_evasao < imbalance_threshold or proporcao_ativo < imbalance_threshold:\n",
        "    print(\"\\nHá um desequilíbrio significativo entre as classes Churn e Não Churn.\")\n",
        "else:\n",
        "    print(\"\\nNão há um desequilíbrio significativo entre as classes Churn e Não Churn.\")"
      ],
      "metadata": {
        "colab": {
          "base_uri": "https://localhost:8080/",
          "height": 265
        },
        "id": "2sUroXVR9rbk",
        "outputId": "eea2d7ed-be2f-42bd-eda2-bb189c453d01"
      },
      "execution_count": 131,
      "outputs": [
        {
          "output_type": "stream",
          "name": "stdout",
          "text": [
            "Distribuição da classe Churn:\n"
          ]
        },
        {
          "output_type": "display_data",
          "data": {
            "text/plain": [
              "Churn\n",
              "0    5174\n",
              "1    1869\n",
              "Name: count, dtype: int64"
            ],
            "text/html": [
              "<div>\n",
              "<style scoped>\n",
              "    .dataframe tbody tr th:only-of-type {\n",
              "        vertical-align: middle;\n",
              "    }\n",
              "\n",
              "    .dataframe tbody tr th {\n",
              "        vertical-align: top;\n",
              "    }\n",
              "\n",
              "    .dataframe thead th {\n",
              "        text-align: right;\n",
              "    }\n",
              "</style>\n",
              "<table border=\"1\" class=\"dataframe\">\n",
              "  <thead>\n",
              "    <tr style=\"text-align: right;\">\n",
              "      <th></th>\n",
              "      <th>count</th>\n",
              "    </tr>\n",
              "    <tr>\n",
              "      <th>Churn</th>\n",
              "      <th></th>\n",
              "    </tr>\n",
              "  </thead>\n",
              "  <tbody>\n",
              "    <tr>\n",
              "      <th>0</th>\n",
              "      <td>5174</td>\n",
              "    </tr>\n",
              "    <tr>\n",
              "      <th>1</th>\n",
              "      <td>1869</td>\n",
              "    </tr>\n",
              "  </tbody>\n",
              "</table>\n",
              "</div><br><label><b>dtype:</b> int64</label>"
            ]
          },
          "metadata": {}
        },
        {
          "output_type": "stream",
          "name": "stdout",
          "text": [
            "Proporção de clientes que evadiram (Churn): 26.54%\n",
            "Proporção de clientes que permaneceram ativos: 73.46%\n",
            "\n",
            "Não há um desequilíbrio significativo entre as classes Churn e Não Churn.\n"
          ]
        }
      ]
    }
  ]
}